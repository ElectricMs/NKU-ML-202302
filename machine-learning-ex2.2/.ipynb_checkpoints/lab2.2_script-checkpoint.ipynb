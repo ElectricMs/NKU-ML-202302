{
 "cells": [
  {
   "cell_type": "markdown",
   "id": "21618b16",
   "metadata": {},
   "source": [
    "# Lab.2 Logistic回归算法(非线性)"
   ]
  },
  {
   "cell_type": "markdown",
   "id": "6b98d9ff",
   "metadata": {},
   "source": [
    "## 1.读取数据"
   ]
  },
  {
   "cell_type": "code",
   "execution_count": 1,
   "id": "223b243f",
   "metadata": {},
   "outputs": [],
   "source": [
    "import numpy as np\n",
    "import matplotlib.pyplot as plt\n",
    "import scipy.optimize as op"
   ]
  },
  {
   "cell_type": "code",
   "execution_count": 2,
   "id": "c0660eac",
   "metadata": {},
   "outputs": [
    {
     "name": "stdout",
     "output_type": "stream",
     "text": [
      "(118, 2) (118, 1) 118\n"
     ]
    }
   ],
   "source": [
    "#使用loadtxt函数读取数据存于变量ex2data2\n",
    "#使用变量X储存ex2data2的前两列数据（芯片的两项测试结果）\n",
    "#使用变量y储存ex2data2的第三列数据（标签，1表示通过测试，0表示不能通过）\n",
    "#使用变量m储存样本数量\n",
    "\n",
    "ex2data2 = np.loadtxt('.\\ex2data2.txt',delimiter=',')\n",
    "X = ex2data2[:,0:2]\n",
    "y = ex2data2[:,[2]]#注意存为列向量的写法\n",
    "m = np.shape(y)[0]\n",
    "print(X.shape, y.shape, m)"
   ]
  },
  {
   "cell_type": "markdown",
   "id": "afb483b0",
   "metadata": {},
   "source": [
    "## 2.可视化数据"
   ]
  },
  {
   "cell_type": "code",
   "execution_count": 3,
   "id": "f10dc6ad",
   "metadata": {},
   "outputs": [
    {
     "data": {
      "image/png": "[encoded data removed]",
      "text/plain": [
       "<Figure size 640x480 with 1 Axes>"
      ]
     },
     "metadata": {},
     "output_type": "display_data"
    }
   ],
   "source": [
    "# 使用plt.plot（）函数绘制散点图，使用不同颜色绘制正例和负例\n",
    "plt.xlabel('Microchip Test 1')\n",
    "plt.ylabel('Microchip Test 2')\n",
    "\n",
    "for i in range(m):\n",
    "    if y[i] == 1:  # 正例\n",
    "        plt.plot(X[i, 0], X[i, 1], '+b')\n",
    "    elif y[i] == 0:  # 反例\n",
    "        plt.plot(X[i, 0], X[i, 1], 'oy')\n"
   ]
  },
  {
   "cell_type": "markdown",
   "id": "b843176a",
   "metadata": {},
   "source": [
    "## 3.训练Logistic模型\n",
    "\n",
    "### 3.1数据预处理：多项式特征构造，初始化θ，初始化正则化参数lambda"
   ]
  },
  {
   "cell_type": "code",
   "execution_count": 4,
   "id": "d0e2c0f6",
   "metadata": {
    "scrolled": true
   },
   "outputs": [
    {
     "name": "stdout",
     "output_type": "stream",
     "text": [
      "(118, 28) (28, 1)\n"
     ]
    }
   ],
   "source": [
    "#完成函数mapFeature，输入特征值x1,x2后，返回一个数组,该数组存储维度扩增后的特征值，特征最高次为6次\n",
    "#将X的前两列分别作为参数X1,X2传入mapFeatrure，并用变量x接收完成构造的特征值数组\n",
    "#使用np.zeros初始化theta,规模为特征数量*1（特这个数量为np.shape(x)[1]）\n",
    "#初始化正则化参数lbd为1\n",
    "def mapFeature(X1,X2):\n",
    "    degree = 6 # 每个Featuer的最高次\n",
    "    x_mapped =[]\n",
    "    \n",
    "    for i in range(0, degree + 1):\n",
    "        for j in range(i + 1):\n",
    "             x_mapped.append((X1**(i-j))*(X2**j))\n",
    "    \n",
    "    return x_mapped\n",
    "\n",
    "\n",
    "x=mapFeature(X[:, 0], X[:, 1])\n",
    "x = np.array(x)\n",
    "x = x.T\n",
    "\n",
    "theta = np.zeros((x.shape[1], 1))\n",
    "lbd = 1\n",
    "\n",
    "print(x.shape, theta.shape)"
   ]
  },
  {
   "cell_type": "markdown",
   "id": "3d4af0f5",
   "metadata": {},
   "source": [
    "### 3.2定义损失函数、梯度"
   ]
  },
  {
   "cell_type": "code",
   "execution_count": 5,
   "id": "f55300ac",
   "metadata": {},
   "outputs": [
    {
     "name": "stdout",
     "output_type": "stream",
     "text": [
      "对初始零向量theta求得的cost为 [0.69314718] \n",
      "梯度为:\n",
      " [8.47457627e-03 1.87880932e-02 7.77711864e-05 5.03446395e-02\n",
      " 1.15013308e-02 3.76648474e-02 1.83559872e-02 7.32393391e-03\n",
      " 8.19244468e-03 2.34764889e-02 3.93486234e-02 2.23923907e-03\n",
      " 1.28600503e-02 3.09593720e-03 3.93028171e-02 1.99707467e-02\n",
      " 4.32983232e-03 3.38643902e-03 5.83822078e-03 4.47629067e-03\n",
      " 3.10079849e-02 3.10312442e-02 1.09740238e-03 6.31570797e-03\n",
      " 4.08503006e-04 7.26504316e-03 1.37646175e-03 3.87936363e-02]\n"
     ]
    }
   ],
   "source": [
    "# 完成正则化的损失函数costFunction(),返回值为一维数组\n",
    "# 完成正则化的梯度计算gradient()，返回值为一维数组\n",
    "def sigmoid(z):\n",
    "    g = np.zeros(np.shape(z))\n",
    "    g = 1/(1+np.exp(-1*z))\n",
    "    return g\n",
    "\n",
    "def costFunction(theta, X, y, lbd):\n",
    "    theta = theta.reshape(len(theta), 1)# 为适应后面训练过程的维度要求，可先忽略\n",
    " \n",
    " \n",
    "    tmp1=np.dot(y.T,np.log(sigmoid(np.dot(X,theta))))\n",
    "    tmp2=np.dot((1-y).T,np.log(1-sigmoid(np.dot(X,theta))))\n",
    "    tmp3=lbd*sum(theta**2)/(2*m)\n",
    "    J=(-tmp1-tmp2)/m+tmp3\n",
    "\n",
    "\n",
    "    J = J.flatten()\n",
    "    return J\n",
    "\n",
    "def gradient(theta, X, y, lbd):\n",
    "    theta = theta.reshape(len(theta), 1)# 为适应后面训练过程的维度要求，可先忽略\n",
    "\n",
    "    grad=np.dot((sigmoid(np.dot(X,theta))-y).T,X)/m+lbd*theta.T/m\n",
    "\n",
    "    grad = grad.flatten() # 返回一维数组\n",
    "    return grad\n",
    "\n",
    "cost = costFunction(theta, x, y, lbd)\n",
    "grad = gradient(theta, x, y, lbd)\n",
    "print('对初始零向量theta求得的cost为',cost,'\\n梯度为:\\n',grad)\n"
   ]
  },
  {
   "cell_type": "markdown",
   "id": "e369e9b9",
   "metadata": {},
   "source": [
    "### 3.3使用scipy.optimize.minimize求最小损失对应的参数theta\n",
    "\n",
    "在Python中使用Scipy包下的scipy.optimize.minimize(fun, x0, args=(), method, jac)方法参数的维度要求很严格:  \n",
    "1.fun为进行优化的目标函数，传入需调用的函数名（不需要加括号），此处为fun=costFunction。需注意调用的函数第一个参数（theta）和返回值（J）必须为一维数组  \n",
    "2.x0即theta需传入一维数组  \n",
    "3.args传入fun需要的其他参数，需用tuple传入  \n",
    "4.method指定优化算法，此处我们使用method='TNC'  \n",
    "5.jac调用梯度计算函数传入参数需与fun调用函数完全相同，且返回值为一维数组  \n",
    "高维数组a调整为一维可以使用a.flatten() ，该函数会产生一个副本，不会直接改变a的维度"
   ]
  },
  {
   "cell_type": "code",
   "execution_count": 6,
   "id": "5d3b9618",
   "metadata": {},
   "outputs": [
    {
     "name": "stdout",
     "output_type": "stream",
     "text": [
      "1 1 1\n"
     ]
    }
   ],
   "source": [
    "# 验证参数维度是否符合要求：代价函数和梯度函数的返回值为一维数组、传入x0的参数theta为一维数组\n",
    "print(cost.ndim, grad.ndim,np.ndim(theta.flatten()))"
   ]
  },
  {
   "cell_type": "code",
   "execution_count": 7,
   "id": "93701248",
   "metadata": {
    "scrolled": true
   },
   "outputs": [
    {
     "name": "stdout",
     "output_type": "stream",
     "text": [
      "     fun: 0.5351602547735098\n",
      "     jac: array([-1.87572248e-05,  4.66093310e-06, -3.20973978e-06, -2.89257308e-06,\n",
      "        3.21533617e-06, -4.18144218e-06,  3.52001771e-06,  2.08474049e-06,\n",
      "        3.38435099e-06, -3.62900817e-06,  1.01505381e-06,  2.47760185e-06,\n",
      "        4.96756965e-07,  2.44451723e-06, -3.03118636e-06,  5.06157638e-06,\n",
      "        1.02954169e-06,  1.63675320e-06,  1.60239087e-06, -4.34952912e-07,\n",
      "       -2.05740090e-06, -7.29351528e-07, -1.10594672e-06,  9.59000384e-07,\n",
      "       -1.34741653e-06,  1.25912462e-06,  6.58949223e-07, -8.75816871e-07])\n",
      " message: 'Converged (|f_n-f_(n-1)| ~= 0)'\n",
      "    nfev: 26\n",
      "     nit: 6\n",
      "  status: 1\n",
      " success: True\n",
      "       x: array([ 1.14201555,  0.60123705,  1.1671586 , -1.87180883, -0.91567159,\n",
      "       -1.26944058,  0.12678648, -0.36850133, -0.34494284, -0.17391051,\n",
      "       -1.4237068 , -0.04838603, -0.60631737, -0.26916597, -1.16320208,\n",
      "       -0.24269757, -0.20697496, -0.04305275, -0.28008563, -0.28708915,\n",
      "       -0.46912463, -1.03629751,  0.02904398, -0.29250737,  0.01716398,\n",
      "       -0.32880531, -0.13795619, -0.93187603])\n"
     ]
    }
   ],
   "source": [
    "result=op.minimize(fun=costFunction,x0=theta.flatten(),args=(x,y,lbd),method='TNC',jac=gradient)\n",
    "\n",
    "print(result)\n",
    "theta_star = result.x"
   ]
  },
  {
   "cell_type": "markdown",
   "id": "75122221",
   "metadata": {},
   "source": [
    "## 4.评估Logistic回归模型\n",
    "\n",
    "### 4.1绘制决策边界\n"
   ]
  },
  {
   "cell_type": "code",
   "execution_count": 8,
   "id": "65ce0c56",
   "metadata": {},
   "outputs": [
    {
     "data": {
      "image/png": "[encoded data removed]",
      "text/plain": [
       "<Figure size 640x480 with 1 Axes>"
      ]
     },
     "metadata": {},
     "output_type": "display_data"
    }
   ],
   "source": [
    "plt.xlabel('Microchip Test 1')\n",
    "plt.ylabel('Microchip Test 2')\n",
    "for i in range(m):\n",
    "    if y[i] == 1: #正例\n",
    "        plt.plot(X[i,0], X[i,1], 'or')\n",
    "    elif y[i] == 0: #反例\n",
    "        plt.plot(X[i,0], X[i,1], 'ob')\n",
    "\n",
    "grid_x1 = np.linspace(-1, 1.5, 50)\n",
    "grid_x2 = np.linspace(-1, 1.5, 50)\n",
    "x_theta = np.zeros((grid_x1.size,grid_x2.size))\n",
    "for i in range(grid_x1.size):\n",
    "    for j in range(grid_x2.size):\n",
    "        x_theta[i][j] = np.dot(mapFeature(grid_x1[i], grid_x2[j]), theta_star)\n",
    "x_theta = x_theta.T\n",
    "plt.contour(grid_x1, grid_x2, x_theta,[0], colors='green' )\n",
    "\n",
    "plt.savefig('test2.svg', dpi=300, format='svg')\n",
    "\n"
   ]
  },
  {
   "cell_type": "markdown",
   "id": "7c9fc7f0",
   "metadata": {},
   "source": [
    "### 4.2计算模型准确率"
   ]
  },
  {
   "cell_type": "code",
   "execution_count": 9,
   "id": "a04e973e",
   "metadata": {},
   "outputs": [
    {
     "name": "stdout",
     "output_type": "stream",
     "text": [
      "预测准确率为：81.36%\n"
     ]
    }
   ],
   "source": [
    "output = sigmoid(np.dot(x, theta_star))\n",
    "\n",
    "correctNum = 0\n",
    "\n",
    "for i in range(m):\n",
    "    if y[i] == 0:\n",
    "        if output[i] <= 0.5:\n",
    "            correctNum +=1\n",
    "    elif y[i] == 1:\n",
    "        if output[i] > 0.5:\n",
    "            correctNum +=1\n",
    "\n",
    "percent = correctNum / m\n",
    "print('预测准确率为：{:.2%}'.format(percent))\n"
   ]
  },
  {
   "cell_type": "code",
   "execution_count": null,
   "id": "65bd3099",
   "metadata": {},
   "outputs": [],
   "source": []
  }
 ],
 "metadata": {
  "kernelspec": {
   "display_name": "Python 3 (ipykernel)",
   "language": "python",
   "name": "python3"
  },
  "language_info": {
   "codemirror_mode": {
    "name": "ipython",
    "version": 3
   },
   "file_extension": ".py",
   "mimetype": "text/x-python",
   "name": "python",
   "nbconvert_exporter": "python",
   "pygments_lexer": "ipython3",
   "version": "3.9.13"
  },
  "vscode": {
   "interpreter": {
    "hash": "5cb9523a3ce612da594b1721626e95f90edbb30067f86e1c6d953bc531f0cdd1"
   }
  }
 },
 "nbformat": 4,
 "nbformat_minor": 5
}
