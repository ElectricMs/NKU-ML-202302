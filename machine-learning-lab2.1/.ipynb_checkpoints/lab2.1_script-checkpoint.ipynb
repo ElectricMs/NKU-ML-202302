{
 "cells": [
  {
   "cell_type": "markdown",
   "metadata": {},
   "source": [
    "# Lab.2 Logistic回归算法(线性)"
   ]
  },
  {
   "cell_type": "markdown",
   "metadata": {},
   "source": [
    "## 1.读取数据"
   ]
  },
  {
   "cell_type": "code",
   "execution_count": 1,
   "metadata": {},
   "outputs": [],
   "source": [
    "import numpy as np\n",
    "import matplotlib.pyplot as plt\n",
    "import scipy.optimize as op"
   ]
  },
  {
   "cell_type": "code",
   "execution_count": 2,
   "metadata": {},
   "outputs": [
    {
     "name": "stdout",
     "output_type": "stream",
     "text": [
      "(100, 2) (100, 1) 100\n"
     ]
    }
   ],
   "source": [
    "#使用loadtxt函数读取数据存于变量ex2data1\n",
    "#使用变量X储存ex2data1的前两列数据（申请人的两科成绩）\n",
    "#使用变量y储存ex2data1的第三列数据（标签，1表示能够入学，0表示不能入学）,存为列向量\n",
    "#使用变量m储存样本数量\n",
    "\n",
    "ex2data1 = np.loadtxt('.\\ex2data1.txt',delimiter=',')\n",
    "X = ex2data1[:,0:2]\n",
    "y = ex2data1[:,[2]]#注意存为列向量的写法\n",
    "m = np.shape(y)[0]\n",
    "print(X.shape, y.shape, m)"
   ]
  },
  {
   "cell_type": "markdown",
   "metadata": {},
   "source": [
    "## 2.可视化数据"
   ]
  },
  {
   "cell_type": "code",
   "execution_count": 3,
   "metadata": {},
   "outputs": [
    {
     "data": {
      "image/png": "[encoded data removed]",
      "text/plain": [
       "<Figure size 640x480 with 1 Axes>"
      ]
     },
     "metadata": {},
     "output_type": "display_data"
    }
   ],
   "source": [
    "# 使用plt.scatter（）函数绘制散点图，使用不同颜色绘制正例和负例\n",
    "plt.xlabel('Exam 1 score')\n",
    "plt.ylabel('Exam 2 score')\n",
    "\n",
    "\n",
    "for i in range(m):\n",
    "    if y[i] == 1:  # 正例\n",
    "        plt.plot(X[i, 0], X[i, 1], '+b')\n",
    "    elif y[i] == 0:  # 反例\n",
    "        plt.plot(X[i, 0], X[i, 1], 'oy')\n"
   ]
  },
  {
   "cell_type": "markdown",
   "metadata": {},
   "source": [
    "## 3.训练Logistic回归模型\n",
    "\n",
    "\n",
    "### 3.1数据预处理：准备输入数据、标签，初始化θ"
   ]
  },
  {
   "cell_type": "code",
   "execution_count": 4,
   "metadata": {},
   "outputs": [
    {
     "name": "stdout",
     "output_type": "stream",
     "text": [
      "(100, 3) [[0.]\n",
      " [0.]\n",
      " [0.]]\n"
     ]
    }
   ],
   "source": [
    "# 前面已经使用m存放样本个数，X存放成绩信息，y存放标签\n",
    "# 使用np.ones创建变量名为x0的数组，规模为m*1\n",
    "# 使用np.hstack函数将x0和X进行合并存放于变量x\n",
    "# 使用np.zeros初始化theta,规模为3*1（每个样本由两个特征值）\n",
    "\n",
    "x0=np.ones((m,1))\n",
    "x=np.hstack((x0,X))\n",
    "theta=np.zeros((3,1))\n",
    "\n",
    "print(x.shape, theta)\n"
   ]
  },
  {
   "cell_type": "markdown",
   "metadata": {},
   "source": [
    "### 3.2定义Sigmoid函数、损失函数、梯度"
   ]
  },
  {
   "cell_type": "code",
   "execution_count": 5,
   "metadata": {},
   "outputs": [
    {
     "name": "stdout",
     "output_type": "stream",
     "text": [
      "对初始零向量theta求得的cost为 [0.69314718] \n",
      "梯度为 [ -0.1        -12.00921659 -11.26284221]\n"
     ]
    }
   ],
   "source": [
    "# 完成sigmoid函数\n",
    "# 完成基于交叉熵的损失函数costFunction(),返回值为一维数组\n",
    "# 完成梯度计算gradient()，返回值为一维数组\n",
    "def sigmoid(z):\n",
    "\n",
    "    g = 1 / (1 + np.exp(-z))\n",
    "    \n",
    "    return g\n",
    "\n",
    "def costFunction(theta, x, y):\n",
    "    theta = theta.reshape(len(theta), 1)# 为适应后面训练过程的维度要求，可先忽略\n",
    " \n",
    "    tmp1=np.dot(y.T,np.log(sigmoid(np.dot(x,theta))))\n",
    "    tmp2=np.dot((1-y).T,np.log(1-sigmoid(np.dot(x,theta))))\n",
    "    J=(-tmp1-tmp2)/m\n",
    "\n",
    "\n",
    "    J = J.flatten()# 返回一维数组，为适应后面训练过程的维度要求，可先忽略\n",
    "    return J\n",
    "\n",
    "def gradient(theta, x, y):\n",
    "    theta = theta.reshape(len(theta), 1)# 为适应后面训练过程的维度要求，可先忽略\n",
    "  \n",
    "    grad=np.dot((sigmoid(np.dot(x,theta))-y).T,x)/m\n",
    "\n",
    "\n",
    "    grad = grad.flatten() # 返回一维数组，为适应后面训练过程的维度要求，可先忽略\n",
    "    return grad\n",
    "\n",
    "cost = costFunction(theta, x, y)\n",
    "grad = gradient(theta, x, y)\n",
    "print('对初始零向量theta求得的cost为',cost,'\\n梯度为',grad)"
   ]
  },
  {
   "cell_type": "markdown",
   "metadata": {},
   "source": [
    "### 3.3使用scipy.optimize.minimize求最小损失对应的参数theta\n",
    "\n",
    "在Python中使用Scipy包下的scipy.optimize.minimize(fun, x0, args=(), method, jac)方法参数的维度要求很严格:  \n",
    "1.fun为进行优化的目标函数，传入需调用的函数名（不需要加括号），此处为fun=costFunction。需注意调用的函数第一个参数（theta）和返回值（J）必须为一维数组  \n",
    "2.x0即theta需传入一维数组  \n",
    "3.args传入fun需要的其他参数，需用tuple传入  \n",
    "4.method指定优化算法，此处我们使用method='TNC'  \n",
    "5.jac调用梯度计算函数传入参数需与fun调用函数完全相同，且返回值为一维数组  \n",
    "高维数组a调整为一维可以使用a.flatten() ，该函数会产生一个副本，不会直接改变a的维度"
   ]
  },
  {
   "cell_type": "code",
   "execution_count": 6,
   "metadata": {},
   "outputs": [
    {
     "name": "stdout",
     "output_type": "stream",
     "text": [
      "1 1 1\n"
     ]
    }
   ],
   "source": [
    "# 验证参数维度是否符合要求：代价函数和梯度函数的返回值为一维数组、传入x0的参数theta为一维数组\n",
    "print(cost.ndim, grad.ndim,np.ndim(theta.flatten()))"
   ]
  },
  {
   "cell_type": "code",
   "execution_count": 7,
   "metadata": {},
   "outputs": [
    {
     "name": "stdout",
     "output_type": "stream",
     "text": [
      "     fun: 0.20349770158947436\n",
      "     jac: array([8.75697940e-09, 6.43645929e-08, 4.71900562e-07])\n",
      " message: 'Local minimum reached (|pg| ~= 0)'\n",
      "    nfev: 36\n",
      "     nit: 17\n",
      "  status: 0\n",
      " success: True\n",
      "       x: array([-25.16131869,   0.20623159,   0.20147149])\n"
     ]
    }
   ],
   "source": [
    "# 使用minimize函数进行优化，使用变量result存放op.minimize()的返回值\n",
    "# 使用theta_star存放最优的theta值（result中的x）\n",
    "\n",
    "result=op.minimize(fun=costFunction,x0=theta.flatten(),args=(x,y),method='TNC',jac=gradient)\n",
    "\n",
    "print(result)\n",
    "theta_star = result.x"
   ]
  },
  {
   "cell_type": "markdown",
   "metadata": {},
   "source": [
    "## 4.评估Logistic回归模型\n",
    "\n",
    "### 4.1绘制决策边界\n",
    "\n"
   ]
  },
  {
   "cell_type": "code",
   "execution_count": 8,
   "metadata": {},
   "outputs": [
    {
     "data": {
      "text/plain": [
       "[<matplotlib.lines.Line2D at 0x2ae9eaae340>]"
      ]
     },
     "execution_count": 8,
     "metadata": {},
     "output_type": "execute_result"
    },
    {
     "data": {
      "image/png": "[encoded data removed]",
      "text/plain": [
       "<Figure size 640x480 with 1 Axes>"
      ]
     },
     "metadata": {},
     "output_type": "display_data"
    }
   ],
   "source": [
    "# 此时x是100*3的二维数组，绘图时用写法与初始有差异\n",
    "# 决策边界为theta[0]+theta[1]*x1+theta[2]*x2=0\n",
    "# 绘制穿过x1,y1)和(x2,y2)的直线可以使用plt.plot((x1,x2),(y1,y2))\n",
    "\n",
    "plt.xlabel('Exam 1 score')\n",
    "plt.ylabel('Exam 2 score')\n",
    "for i in range(m):\n",
    "    if y[i] == 1: #正例\n",
    "        plt.plot(x[i,1], x[i,2], '+b')\n",
    "    elif y[i] == 0: #反例\n",
    "        plt.plot(x[i,1], x[i,2], 'oy')\n",
    "\n",
    "\n",
    "plt.plot((25,100),((-theta_star[1]*25-theta_star[0])/theta_star[2],(-theta_star[1]*100-theta_star[0])/theta_star[2]))"
   ]
  },
  {
   "cell_type": "markdown",
   "metadata": {},
   "source": [
    "### 4.2计算模型准确率"
   ]
  },
  {
   "cell_type": "code",
   "execution_count": 9,
   "metadata": {},
   "outputs": [
    {
     "data": {
      "text/plain": [
       "0.89"
      ]
     },
     "execution_count": 9,
     "metadata": {},
     "output_type": "execute_result"
    }
   ],
   "source": [
    "# 编写函数计算模型在训练集上的正确率\n",
    "\n",
    "def accuracy(theta_star):\n",
    "\n",
    "    predict=np.dot(x,theta_star.T)\n",
    "    correct=0\n",
    "    for i in range(m):\n",
    "        if predict[i]>=0 and y[i]==1:\n",
    "            correct+=1\n",
    "        elif predict[i]<=0 and y[i]==0:\n",
    "            correct+=1\n",
    "    return correct/m\n",
    "\n",
    "accuracy(theta_star)"
   ]
  },
  {
   "cell_type": "markdown",
   "metadata": {},
   "source": [
    "### 4.3使用训练得到的模型进行预测\n",
    "用训练得到的theta_star，预测一个学生在考试1中获得45分，在考试2中获得85分，该生被录取的概率"
   ]
  },
  {
   "cell_type": "code",
   "execution_count": 10,
   "metadata": {},
   "outputs": [
    {
     "data": {
      "text/plain": [
       "0.7762906253511527"
      ]
     },
     "execution_count": 10,
     "metadata": {},
     "output_type": "execute_result"
    }
   ],
   "source": [
    "pred=theta_star[0]+theta_star[1]*45+theta_star[2]*85\n",
    "sigmoid(pred)"
   ]
  }
 ],
 "metadata": {
  "kernelspec": {
   "display_name": "Python 3 (ipykernel)",
   "language": "python",
   "name": "python3"
  },
  "language_info": {
   "codemirror_mode": {
    "name": "ipython",
    "version": 3
   },
   "file_extension": ".py",
   "mimetype": "text/x-python",
   "name": "python",
   "nbconvert_exporter": "python",
   "pygments_lexer": "ipython3",
   "version": "3.9.13"
  },
  "vscode": {
   "interpreter": {
    "hash": "5cb9523a3ce612da594b1721626e95f90edbb30067f86e1c6d953bc531f0cdd1"
   }
  }
 },
 "nbformat": 4,
 "nbformat_minor": 2
}
