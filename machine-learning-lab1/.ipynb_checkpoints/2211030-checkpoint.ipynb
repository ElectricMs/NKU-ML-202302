{
 "cells": [
  {
   "cell_type": "markdown",
   "metadata": {},
   "source": [
    "# Lab1. 线性回归（单变量）"
   ]
  },
  {
   "cell_type": "markdown",
   "metadata": {},
   "source": [
    "1. 读取数据\n",
    "2. 数据可视化\n",
    "3. 训练线性回归模型/解析求导法\n",
    "4. 使用模型进行预测\n",
    "5. 结果可视化"
   ]
  },
  {
   "cell_type": "markdown",
   "metadata": {},
   "source": [
    "## 1. 读取数据"
   ]
  },
  {
   "cell_type": "code",
   "execution_count": 2,
   "metadata": {},
   "outputs": [],
   "source": [
    "import numpy as np\n",
    "import matplotlib.pyplot as plt"
   ]
  },
  {
   "cell_type": "code",
   "execution_count": 3,
   "metadata": {},
   "outputs": [
    {
     "name": "stdout",
     "output_type": "stream",
     "text": [
      "(97, 2) 2\n"
     ]
    }
   ],
   "source": [
    "ex1data1 = './ex1data1.txt'\n",
    "data1=np.loadtxt(ex1data1,delimiter=',')\n",
    "print(data1.shape,data1.ndim)"
   ]
  },
  {
   "cell_type": "markdown",
   "metadata": {},
   "source": [
    "## 2. 可视化数据"
   ]
  },
  {
   "cell_type": "code",
   "execution_count": 4,
   "metadata": {},
   "outputs": [
    {
     "name": "stdout",
     "output_type": "stream",
     "text": [
      "(97,) 1\n"
     ]
    }
   ],
   "source": [
    "x=data1[:,0]\n",
    "y=data1[:,1]\n",
    "print(x.shape, x.ndim)"
   ]
  },
  {
   "cell_type": "code",
   "execution_count": 5,
   "metadata": {},
   "outputs": [
    {
     "data": {
      "text/plain": [
       "[<matplotlib.lines.Line2D at 0x1f8021955e0>]"
      ]
     },
     "execution_count": 5,
     "metadata": {},
     "output_type": "execute_result"
    },
    {
     "data": {
      "image/png": "[encoded data removed]",
      "text/plain": [
       "<Figure size 640x480 with 1 Axes>"
      ]
     },
     "metadata": {},
     "output_type": "display_data"
    }
   ],
   "source": [
    "#使用plt.xlabel plt.ylabel plt.plot函数来进行数据可视化\n",
    "plt.xlabel('Population of City in 10000s')\n",
    "plt.ylabel('Profit in $10000s')\n",
    "\n",
    "plt.plot(x,y,'+b')"
   ]
  },
  {
   "cell_type": "markdown",
   "metadata": {},
   "source": [
    "## 3. 训练线性回归模型\n",
    "### 3.1 准备输入、标签、输出、学习率、模型参数"
   ]
  },
  {
   "cell_type": "code",
   "execution_count": 6,
   "metadata": {},
   "outputs": [
    {
     "name": "stdout",
     "output_type": "stream",
     "text": [
      "[[ 1.      6.1101]\n",
      " [ 1.      5.5277]\n",
      " [ 1.      8.5186]\n",
      " [ 1.      7.0032]\n",
      " [ 1.      5.8598]\n",
      " [ 1.      8.3829]\n",
      " [ 1.      7.4764]\n",
      " [ 1.      8.5781]\n",
      " [ 1.      6.4862]\n",
      " [ 1.      5.0546]\n",
      " [ 1.      5.7107]\n",
      " [ 1.     14.164 ]\n",
      " [ 1.      5.734 ]\n",
      " [ 1.      8.4084]\n",
      " [ 1.      5.6407]\n",
      " [ 1.      5.3794]\n",
      " [ 1.      6.3654]\n",
      " [ 1.      5.1301]\n",
      " [ 1.      6.4296]\n",
      " [ 1.      7.0708]\n",
      " [ 1.      6.1891]\n",
      " [ 1.     20.27  ]\n",
      " [ 1.      5.4901]\n",
      " [ 1.      6.3261]\n",
      " [ 1.      5.5649]\n",
      " [ 1.     18.945 ]\n",
      " [ 1.     12.828 ]\n",
      " [ 1.     10.957 ]\n",
      " [ 1.     13.176 ]\n",
      " [ 1.     22.203 ]\n",
      " [ 1.      5.2524]\n",
      " [ 1.      6.5894]\n",
      " [ 1.      9.2482]\n",
      " [ 1.      5.8918]\n",
      " [ 1.      8.2111]\n",
      " [ 1.      7.9334]\n",
      " [ 1.      8.0959]\n",
      " [ 1.      5.6063]\n",
      " [ 1.     12.836 ]\n",
      " [ 1.      6.3534]\n",
      " [ 1.      5.4069]\n",
      " [ 1.      6.8825]\n",
      " [ 1.     11.708 ]\n",
      " [ 1.      5.7737]\n",
      " [ 1.      7.8247]\n",
      " [ 1.      7.0931]\n",
      " [ 1.      5.0702]\n",
      " [ 1.      5.8014]\n",
      " [ 1.     11.7   ]\n",
      " [ 1.      5.5416]\n",
      " [ 1.      7.5402]\n",
      " [ 1.      5.3077]\n",
      " [ 1.      7.4239]\n",
      " [ 1.      7.6031]\n",
      " [ 1.      6.3328]\n",
      " [ 1.      6.3589]\n",
      " [ 1.      6.2742]\n",
      " [ 1.      5.6397]\n",
      " [ 1.      9.3102]\n",
      " [ 1.      9.4536]\n",
      " [ 1.      8.8254]\n",
      " [ 1.      5.1793]\n",
      " [ 1.     21.279 ]\n",
      " [ 1.     14.908 ]\n",
      " [ 1.     18.959 ]\n",
      " [ 1.      7.2182]\n",
      " [ 1.      8.2951]\n",
      " [ 1.     10.236 ]\n",
      " [ 1.      5.4994]\n",
      " [ 1.     20.341 ]\n",
      " [ 1.     10.136 ]\n",
      " [ 1.      7.3345]\n",
      " [ 1.      6.0062]\n",
      " [ 1.      7.2259]\n",
      " [ 1.      5.0269]\n",
      " [ 1.      6.5479]\n",
      " [ 1.      7.5386]\n",
      " [ 1.      5.0365]\n",
      " [ 1.     10.274 ]\n",
      " [ 1.      5.1077]\n",
      " [ 1.      5.7292]\n",
      " [ 1.      5.1884]\n",
      " [ 1.      6.3557]\n",
      " [ 1.      9.7687]\n",
      " [ 1.      6.5159]\n",
      " [ 1.      8.5172]\n",
      " [ 1.      9.1802]\n",
      " [ 1.      6.002 ]\n",
      " [ 1.      5.5204]\n",
      " [ 1.      5.0594]\n",
      " [ 1.      5.7077]\n",
      " [ 1.      7.6366]\n",
      " [ 1.      5.8707]\n",
      " [ 1.      5.3054]\n",
      " [ 1.      8.2934]\n",
      " [ 1.     13.394 ]\n",
      " [ 1.      5.4369]]\n"
     ]
    },
    {
     "data": {
      "text/plain": [
       "array([[0.],\n",
       "       [0.]])"
      ]
     },
     "execution_count": 6,
     "metadata": {},
     "output_type": "execute_result"
    }
   ],
   "source": [
    "#使用m存放数据点的个数\n",
    "#使用np.ones创建名为x0的二维数组，规模为m*1\n",
    "#使用x1存放读入数据第一列“人口数量”，存为列向量\n",
    "#使用np.hstack函数将x0和x1进行合并存放于x,打印x\n",
    "#使用y存放读入数据第二列“收益”，存为列向量\n",
    "#使用np.zeros初始化theta,规模为2*1,打印theta\n",
    "\n",
    "m=97\n",
    "x0=np.ones((m,1))\n",
    "x1 = data1[:, 0].reshape(-1, 1)\n",
    "x = np.hstack((x0, x1))\n",
    "print(x)\n",
    "y=data1[:, 1].reshape(-1, 1)\n",
    "theta=np.zeros([2,1])\n",
    "theta\n"
   ]
  },
  {
   "cell_type": "markdown",
   "metadata": {},
   "source": [
    "### 3.2 计算代价函数"
   ]
  },
  {
   "cell_type": "code",
   "execution_count": 7,
   "metadata": {
    "scrolled": true
   },
   "outputs": [
    {
     "name": "stdout",
     "output_type": "stream",
     "text": [
      "32.072733877455676\n"
     ]
    }
   ],
   "source": [
    "#利用numpy中的函数编写代价函数\n",
    "#注意避免编写一个完整的长公式，分步计算便于调试\n",
    "#注意数组维度\n",
    "theta = np.zeros((2,1))\n",
    "def computeCost(X, y, theta):\n",
    "\n",
    "    error=np.matmul(x,theta)-y\n",
    "    \n",
    "    J = np.sum(error ** 2) / (2*m)\n",
    "    return J\n",
    "\n",
    "print(computeCost(x, y, theta))"
   ]
  },
  {
   "cell_type": "markdown",
   "metadata": {},
   "source": [
    "### 3.3 梯度下降法求模型参数"
   ]
  },
  {
   "cell_type": "code",
   "execution_count": 8,
   "metadata": {},
   "outputs": [
    {
     "name": "stdout",
     "output_type": "stream",
     "text": [
      "[[-3.63029144]\n",
      " [ 1.16636235]]\n",
      "[[32.07273388]\n",
      " [ 6.73719046]\n",
      " [ 5.93159357]\n",
      " ...\n",
      " [ 4.4834581 ]\n",
      " [ 4.48343473]\n",
      " [ 4.48341145]]\n"
     ]
    }
   ],
   "source": [
    "#定义学习率alpha\n",
    "#迭代次数iteration\n",
    "#使用cost存放每次迭代后计算出的代价函数的取值\n",
    "#进行梯度下降\n",
    "def gradientDescent(X, y, theta, alpha, num_iters):\n",
    "    \n",
    "    J_history = np.zeros((num_iters, 1))\n",
    "\n",
    "    for i in range(num_iters):\n",
    "        error = np.dot(x,theta) - y\n",
    "        J_history[i] = computeCost(X, y, theta)\n",
    "        # J = np.sum(np.power((x.dot(theta)-y),2))/(2*m)\n",
    "        grad = np.dot(X.T, error) / m\n",
    "\n",
    "        theta = theta - grad * alpha\n",
    "\n",
    "    return theta, J_history\n",
    "\n",
    "theta_star, J_hist = gradientDescent(x, y, theta, 0.01, 1500)\n",
    "print(theta_star)\n",
    "print(J_hist)"
   ]
  },
  {
   "cell_type": "markdown",
   "metadata": {},
   "source": [
    "### 3.4 通过求导法直接计算最优解"
   ]
  },
  {
   "cell_type": "code",
   "execution_count": 14,
   "metadata": {},
   "outputs": [
    {
     "data": {
      "text/plain": [
       "array([[-3.89578088],\n",
       "       [ 1.19303364]])"
      ]
     },
     "execution_count": 14,
     "metadata": {},
     "output_type": "execute_result"
    }
   ],
   "source": [
    "#编写公式直接求取theta最优解\n",
    "\n",
    "theta=np.dot(np.dot(np.linalg.inv(np.dot(x.T,x)),x.T),y)\n",
    "\n",
    "theta"
   ]
  },
  {
   "cell_type": "markdown",
   "metadata": {},
   "source": [
    "## 4. 使用训练得到的模型进行预测"
   ]
  },
  {
   "cell_type": "code",
   "execution_count": 15,
   "metadata": {},
   "outputs": [
    {
     "name": "stdout",
     "output_type": "stream",
     "text": [
      "[2.06938734] [25.93006023]\n"
     ]
    }
   ],
   "source": [
    "#使用训练的带的参数，代入x0=5.0求得对应的y0\n",
    "#使用训练的带的参数，代入x1=25.0求得对应的y1\n",
    "\n",
    "x0=5.0\n",
    "y0=theta[0]+x0*theta[1]\n",
    "x1=25.0\n",
    "y1=theta[0]+x1*theta[1]\n",
    "\n",
    "\n",
    "print(y0, y1)"
   ]
  },
  {
   "cell_type": "markdown",
   "metadata": {},
   "source": [
    "## 5. 绘制预测结果"
   ]
  },
  {
   "cell_type": "code",
   "execution_count": 16,
   "metadata": {},
   "outputs": [
    {
     "data": {
      "text/plain": [
       "[<matplotlib.lines.Line2D at 0x1f8022669a0>]"
      ]
     },
     "execution_count": 16,
     "metadata": {},
     "output_type": "execute_result"
    },
    {
     "data": {
      "image/png": "[encoded data removed]",
      "text/plain": [
       "<Figure size 640x480 with 1 Axes>"
      ]
     },
     "metadata": {},
     "output_type": "display_data"
    }
   ],
   "source": [
    "#利用plt.xlabel plt.ylabel设定坐标轴名称\n",
    "#利用plt.plot画出拟合的直线，可利用上一步计算得到的两个坐标点plt.plot((x0, x1), (y0, y1))\n",
    "#利用plt.plot画出原始数据散点图\n",
    "plt.xlabel('Population of City in 10000s')\n",
    "plt.ylabel('Profit in $10000s')\n",
    "\n",
    "plt.plot((x0,x1),(y0,y1))\n",
    "plt.show\n",
    "\n",
    "plt.plot(data1[:,0], y, \"ob\")"
   ]
  },
  {
   "cell_type": "code",
   "execution_count": null,
   "metadata": {},
   "outputs": [],
   "source": []
  }
 ],
 "metadata": {
  "kernelspec": {
   "display_name": "Python 3 (ipykernel)",
   "language": "python",
   "name": "python3"
  },
  "language_info": {
   "codemirror_mode": {
    "name": "ipython",
    "version": 3
   },
   "file_extension": ".py",
   "mimetype": "text/x-python",
   "name": "python",
   "nbconvert_exporter": "python",
   "pygments_lexer": "ipython3",
   "version": "3.9.13"
  }
 },
 "nbformat": 4,
 "nbformat_minor": 4
}
