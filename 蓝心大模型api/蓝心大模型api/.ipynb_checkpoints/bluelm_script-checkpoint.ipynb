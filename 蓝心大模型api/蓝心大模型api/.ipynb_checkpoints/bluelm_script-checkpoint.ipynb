{
 "cells": [
  {
   "cell_type": "code",
   "execution_count": 8,
   "metadata": {},
   "outputs": [
    {
     "name": "stdout",
     "output_type": "stream",
     "text": [
      "final content:\n",
      "这是一个随机固定回复4\n"
     ]
    }
   ],
   "source": [
    "from BlueLM import Vivorequest as request\n",
    "import uuid\n",
    "import time\n",
    "\n",
    "from auth_util import gen_sign_headers\n",
    "\n",
    "# 请替换APP_ID、APP_KEY\n",
    "APP_ID = '20240422'\n",
    "APP_KEY = ''\n",
    "URI = '/vivogpt/completions'\n",
    "DOMAIN = 'api-ai.vivo.com.cn'\n",
    "METHOD = 'POST'\n",
    "\n",
    "\n",
    "def sync_vivogpt():\n",
    "    \n",
    "\n",
    "\n",
    "    params = {\n",
    "        'requestId': str(uuid.uuid4()) #本次数据包的标志id，全局唯一，使用uuid\n",
    "    }\n",
    "    #print('requestId:', params['requestId'])\n",
    "\n",
    "    data = {\n",
    "        'messages': [{'role': 'user', 'content': '你好，蓝心大模型。'},{'role': 'assistant', 'content': '你好！有什么可以帮你的吗？'},{'role':'user','content':'介绍一下你自己'}],\n",
    "        'model': 'vivo-BlueLM-TB', #填写vivo-BlueLM-TB\n",
    "        'sessionId': str(uuid.uuid4()), #会话id，使用uuid，每次唯一。当结合 prompt 使用时，会关联相同 sessionId 的历史消息，messages 不受 sessionId 影响。\n",
    "        'extra': {\n",
    "            'temperature': 0.99\n",
    "        }\n",
    "    }\n",
    "\n",
    "    headers = gen_sign_headers(APP_ID, APP_KEY, METHOD, URI, params)\n",
    "    #print(headers)\n",
    "\n",
    "    url = 'https://{}{}'.format(DOMAIN, URI)\n",
    "\n",
    "    response = request.post(url=url, json=data, headers=headers, params=params)\n",
    "    \n",
    "    #print(response)\n",
    "    if response.status_code == 200:\n",
    "        res_obj = response.json()\n",
    "        #print(f'response:{res_obj}')\n",
    "        if res_obj['code'] == 0 and res_obj.get('data'):\n",
    "            content = res_obj['data']['content']\n",
    "            print(f'final content:\\n{content}')\n",
    "    else:\n",
    "        print(response.status_code, response.text)\n",
    "\n",
    "\n",
    "if __name__ == '__main__':\n",
    "    sync_vivogpt()\n"
   ]
  },
  {
   "cell_type": "code",
   "execution_count": null,
   "metadata": {},
   "outputs": [],
   "source": []
  }
 ],
 "metadata": {
  "kernelspec": {
   "display_name": "Python 3 (ipykernel)",
   "language": "python",
   "name": "python3"
  },
  "language_info": {
   "codemirror_mode": {
    "name": "ipython",
    "version": 3
   },
   "file_extension": ".py",
   "mimetype": "text/x-python",
   "name": "python",
   "nbconvert_exporter": "python",
   "pygments_lexer": "ipython3",
   "version": "3.9.13"
  },
  "vscode": {
   "interpreter": {
    "hash": "5cb9523a3ce612da594b1721626e95f90edbb30067f86e1c6d953bc531f0cdd1"
   }
  }
 },
 "nbformat": 4,
 "nbformat_minor": 2
}
