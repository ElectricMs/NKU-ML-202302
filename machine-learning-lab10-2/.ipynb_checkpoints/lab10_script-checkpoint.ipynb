{
 "cells": [
  {
   "cell_type": "code",
   "execution_count": 3,
   "metadata": {},
   "outputs": [
    {
     "name": "stdout",
     "output_type": "stream",
     "text": [
      "PR 3516 is 1.0\n",
      "Related genes (top 10):\n",
      "Gene 3516 with score 0.10119145658905299\n",
      "Gene 1577 with score 0.09928804821483092\n",
      "Gene 152 with score 0.0050838536004457055\n",
      "Gene 501 with score 0.004352984614687516\n",
      "Gene 368 with score 0.004328286867968305\n",
      "Gene 146 with score 0.0041040931907015445\n",
      "Gene 421 with score 0.004091523159882904\n",
      "Gene 191 with score 0.003853152260652582\n",
      "Gene 2354 with score 0.003835770445187456\n",
      "Gene 137 with score 0.003656135491995338\n"
     ]
    }
   ],
   "source": [
    "import numpy as np\n",
    "import scipy.io\n",
    "\n",
    "def getRelatedDiseases(DiseaseID, phenotype_network):\n",
    "    m = phenotype_network.shape[0]\n",
    "    line_num = 0\n",
    "    for i in range(m):\n",
    "        if phenotype_network[i, 0] == DiseaseID:\n",
    "            line_num = i\n",
    "            break\n",
    "\n",
    "    similarity_vec = phenotype_network[line_num, 1:]\n",
    "\n",
    "    pos = np.argsort(similarity_vec)\n",
    "    relationDiseasePos = pos[-5:]\n",
    "\n",
    "    relationDiseaseID = phenotype_network[relationDiseasePos, 0]\n",
    "\n",
    "    return relationDiseaseID, relationDiseasePos\n",
    "\n",
    "# 加载ppi_network，该网络储存了基因与基因之间的相似关系。基因总数为8919，故该网络维度为8919*8919。\n",
    "ppi_network = scipy.io.loadmat(\"ppi_network.mat\")[\"ppi_network\"]\n",
    "n = ppi_network.shape[0]  # n是基因的数量 (8919)\n",
    "outDegree = np.sum(ppi_network, axis=1)\n",
    "ppi_network = ppi_network / outDegree.reshape(-1, 1)\n",
    "\n",
    "# 加载phenotype_network，该网络储存了疾病与疾病间的相似度关系。疾病总数为5080。注意第一列为疾病ID，故该网络维度为5080*5081\n",
    "phenotype_network = scipy.io.loadmat(\"phenotype_network.mat\")[\"phenotype_network\"]\n",
    "\n",
    "# 加载g_p_network，该网络储存了基因与疾病间的关联关系，若第i个基因与第j个疾病有关，则该位置元素为1，无关为0。维度为8919*5080。\n",
    "g_p_network = scipy.io.loadmat(\"g_p_network.mat\")[\"g_p_network\"]\n",
    "\n",
    "# 设置疾病ID，该ID需要通过phenotype_network的第一列查看。可以单独存储。\n",
    "DiseaseID = 100070\n",
    "\n",
    "relatedDiseaseID, relatedDiseasePos = getRelatedDiseases(DiseaseID, phenotype_network)\n",
    "\n",
    "# 初始化优先级向量R\n",
    "R = np.zeros(n)\n",
    "# 对于输入的疾病ID，首先找到与之最相似的五个疾病，然后找到与五个疾病相关的致病基因，将优先级向量R中致病基因对应的位置设为1，最后归一化，完成R的初始化。\n",
    "for i in range(5):\n",
    "    pheno = relatedDiseasePos[i]\n",
    "    for j in range(n):\n",
    "        if g_p_network[j, pheno] != 0:\n",
    "            R[j] = 1\n",
    "if np.sum(R) > 0:\n",
    "    R = R / np.sum(R)\n",
    "\n",
    "for i in range(n):\n",
    "    if R[i] != 0:\n",
    "        print(\"PR {} is {}\".format(i, R[i]))\n",
    "#利用带重启的随机游走迭代更新R,其中ppi_network相当于邻接矩阵（概率转移矩阵），d为重启概率，e为起始向量。\n",
    "# 迭代\n",
    "e = R\n",
    "iterator = 50\n",
    "d = 0.1\n",
    "for _ in range(iterator):\n",
    "    '''\n",
    "    code here\n",
    "    '''\n",
    "    e = (1 - d) * np.dot(e, ppi_network) + d * R\n",
    "\n",
    "\n",
    "# 输出与输入疾病最相关的十个基因\n",
    "'''\n",
    "code here\n",
    "'''\n",
    "related_genes = np.argsort(e)[::-1][:10]  # 获取最大的10个索引\n",
    "related_genes_scores = e[related_genes]  # 获取这10个基因的优先级分数\n",
    "print(\"Related genes (top 10):\")\n",
    "for gene_id, score in zip(related_genes, related_genes_scores):\n",
    "    print(f\"Gene {gene_id} with score {score}\")\n",
    "\n",
    "\n",
    "\n"
   ]
  },
  {
   "cell_type": "code",
   "execution_count": null,
   "metadata": {},
   "outputs": [],
   "source": []
  }
 ],
 "metadata": {
  "kernelspec": {
   "display_name": "Python 3 (ipykernel)",
   "language": "python",
   "name": "python3"
  },
  "language_info": {
   "codemirror_mode": {
    "name": "ipython",
    "version": 3
   },
   "file_extension": ".py",
   "mimetype": "text/x-python",
   "name": "python",
   "nbconvert_exporter": "python",
   "pygments_lexer": "ipython3",
   "version": "3.9.13"
  },
  "vscode": {
   "interpreter": {
    "hash": "5cb9523a3ce612da594b1721626e95f90edbb30067f86e1c6d953bc531f0cdd1"
   }
  }
 },
 "nbformat": 4,
 "nbformat_minor": 2
}
