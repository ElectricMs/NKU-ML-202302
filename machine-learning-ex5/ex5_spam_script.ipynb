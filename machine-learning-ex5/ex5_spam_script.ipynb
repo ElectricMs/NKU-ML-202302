{
 "cells": [
  {
   "cell_type": "code",
   "execution_count": 1,
   "id": "98c04e2b",
   "metadata": {},
   "outputs": [],
   "source": [
    "# SVM建立垃圾邮件分类器\n",
    "import numpy as np\n",
    "import pandas  as pd\n",
    "from matplotlib import pyplot as plt\n",
    "from scipy.io import loadmat\n",
    "from sklearn import svm\n",
    "import re # 正则\n",
    "from nltk.stem import PorterStemmer # 自然语言处理\n"
   ]
  },
  {
   "cell_type": "code",
   "execution_count": 2,
   "id": "37ed435e",
   "metadata": {},
   "outputs": [
    {
     "name": "stdout",
     "output_type": "stream",
     "text": [
      "> Anyone knows how much it costs to host a web portal ?\n",
      ">\n",
      "Well, it depends on how many visitors you're expecting.\n",
      "This can be anywhere from less than 10 bucks a month to a couple of $100. \n",
      "You should checkout http://www.rackspace.com/ or perhaps Amazon EC2 \n",
      "if youre running something big..\n",
      "\n",
      "To unsubscribe yourself from this mailing list, send an email to:\n",
      "groupname-unsubscribe@egroups.com\n",
      "\n",
      "\n"
     ]
    }
   ],
   "source": [
    "# 邮件预览\n",
    "em = './spam/emailSample1.txt'\n",
    "f = open(em,'r',encoding='utf-8')\n",
    "email = f.read()\n",
    "print(email)\n",
    "f.close()\n"
   ]
  },
  {
   "cell_type": "code",
   "execution_count": 3,
   "id": "9b9513b2",
   "metadata": {},
   "outputs": [
    {
     "data": {
      "text/plain": [
       "['anyon',\n",
       " 'know',\n",
       " 'how',\n",
       " 'much',\n",
       " 'it',\n",
       " 'cost',\n",
       " 'to',\n",
       " 'host',\n",
       " 'a',\n",
       " 'web',\n",
       " 'portal',\n",
       " 'well',\n",
       " 'it',\n",
       " 'depend',\n",
       " 'on',\n",
       " 'how',\n",
       " 'mani',\n",
       " 'visitor',\n",
       " 'you',\n",
       " 're',\n",
       " 'expect',\n",
       " 'thi',\n",
       " 'can',\n",
       " 'be',\n",
       " 'anywher',\n",
       " 'from',\n",
       " 'less',\n",
       " 'than',\n",
       " 'number',\n",
       " 'buck',\n",
       " 'a',\n",
       " 'month',\n",
       " 'to',\n",
       " 'a',\n",
       " 'coupl',\n",
       " 'of',\n",
       " 'dollar',\n",
       " 'number',\n",
       " 'you',\n",
       " 'should',\n",
       " 'checkout',\n",
       " 'httpaddr',\n",
       " 'or',\n",
       " 'perhap',\n",
       " 'amazon',\n",
       " 'ecnumb',\n",
       " 'if',\n",
       " 'your',\n",
       " 'run',\n",
       " 'someth',\n",
       " 'big',\n",
       " 'to',\n",
       " 'unsubscrib',\n",
       " 'yourself',\n",
       " 'from',\n",
       " 'thi',\n",
       " 'mail',\n",
       " 'list',\n",
       " 'send',\n",
       " 'an',\n",
       " 'email',\n",
       " 'to',\n",
       " 'emailaddr']"
      ]
     },
     "execution_count": 3,
     "metadata": {},
     "output_type": "execute_result"
    }
   ],
   "source": [
    "# 邮件预处理\n",
    "\n",
    "def preprocess(email):\n",
    "    \"\"\"做除了Word Stemming和Removal of non-words的所有处理\"\"\"\n",
    "    # 大写转小写\n",
    "    email = email.lower()\n",
    "    # 移除html标签\n",
    "    email = re.sub(r'<.*>','',email)\n",
    "    # 移除url\n",
    "    email = re.sub(r'(http|https)://[^\\s]*','httpaddr',email)\n",
    "    # 移除＄，解决dollar 和 number 的连接问题\n",
    "    email = re.sub(r'[\\$][0-9]+','dollar number',email)\n",
    "    # 移除单个$\n",
    "    email = re.sub(r'\\$','dollar number',email)\n",
    "    # 移除数字\n",
    "    email = re.sub(r'[0-9]+', 'number', email)\n",
    "    # 移除邮箱\n",
    "    email = re.sub(r'[^\\s]+@[^\\s]+','emailaddr',email)\n",
    "    return email\n",
    "\n",
    "\n",
    "def preprocess2(email):\n",
    "    \"\"\"预处理数据 : 提取词干，去除非字符内容\"\"\"\n",
    "\n",
    "    stemmer = PorterStemmer()\n",
    "    email = preprocess(email)\n",
    "\n",
    "    # 将邮件分割为单个单词，re.split()可以设置多种分隔符\n",
    "    tokens = re.split('[ \\@\\$\\/\\#\\.\\-\\:\\&\\*\\+\\=\\[\\]\\?\\!\\(\\)\\{\\}\\,\\'\\\"\\>\\_\\<\\;\\%]', email)\n",
    "\n",
    "    # 遍历每个分割出来的内容\n",
    "    tokenlist = []\n",
    "    for token in tokens:\n",
    "        #删除任何非字母的字符\n",
    "        token = re.sub('[^a-zA-Z0-9]','',token)\n",
    "        #提取词根\n",
    "        stemmed = stemmer.stem(token)\n",
    "        # 去除空字符串“:里面不包含任何字符\n",
    "        if not len(token):continue\n",
    "        tokenlist.append(stemmed)\n",
    "    return tokenlist\n",
    "email_preprocessed = preprocess2(email)\n",
    "email_preprocessed"
   ]
  },
  {
   "cell_type": "code",
   "execution_count": 33,
   "id": "2bdc8ee4",
   "metadata": {
    "scrolled": true
   },
   "outputs": [
    {
     "name": "stdout",
     "output_type": "stream",
     "text": [
      "1899\n",
      "单词数字序号列表: [86, 916, 794, 1077, 883, 370, 1699, 790, 1822, 1831, 883, 431, 1171, 794, 1002, 1893, 1364, 592, 1676, 238, 162, 89, 688, 945, 1663, 1120, 1062, 1699, 375, 1162, 477, 1120, 1893, 1510, 799, 1182, 1237, 810, 1895, 1440, 1547, 181, 1699, 1758, 1896, 688, 1676, 992, 961, 1477, 71, 530, 1699, 531]\n"
     ]
    }
   ],
   "source": [
    "vocab_path = './spam/vocab.txt'\n",
    "\n",
    "\n",
    "def build_word_list(vocab_path):\n",
    "    \"\"\"\n",
    "    从单词表文件构建单词列表\n",
    "\n",
    "    参数:\n",
    "    vocab (str): 单词表文件路径\n",
    "\n",
    "    返回:\n",
    "    list: 单词列表，包含单词表中的所有单词\n",
    "    \"\"\"\n",
    "    vocab = []\n",
    "    with open(vocab_path, 'r', encoding='utf-8') as file:\n",
    "        for line in file:\n",
    "            parts = line.strip().split()\n",
    "            if len(parts) >= 2:\n",
    "                word = parts[1]\n",
    "                vocab.append(word)\n",
    "    return vocab\n",
    "\n",
    "def words_to_indexes(email, vocab):\n",
    "    email_preprocessed = preprocess2(email)\n",
    "    \"\"\"\n",
    "    将英文文本中的单词转换为单词表中的数字序号\n",
    "\n",
    "    参数:\n",
    "    text (str): 包含英文文本的字符串\n",
    "    word_list (list): 单词表列表，包含单词表中的所有单词\n",
    "\n",
    "    返回:\n",
    "    list: 包含单词在单词表中数字序号的列表\n",
    "    \"\"\"\n",
    "    indexes = []# 初始化空列表\n",
    "    for line in email_preprocessed:\n",
    "        parts = line.strip().split()\n",
    "        i=0\n",
    "        while i<len(vocab):\n",
    "            if(vocab[i]==parts[0]):\n",
    "                indexes.append(i+1)\n",
    "                break\n",
    "            else:\n",
    "                i=i+1\n",
    "        \n",
    "    \n",
    "    return indexes\n",
    "\n",
    "# 示例用法\n",
    "# 假设text是包含英文文本的字符串，vocab是单词表文件路径\n",
    "\n",
    "vocab = build_word_list(vocab_path)\n",
    "indexes = words_to_indexes(email, vocab)\n",
    "print(len(vocab))\n",
    "print(\"单词数字序号列表:\", indexes)\n",
    "\n",
    "\n"
   ]
  },
  {
   "cell_type": "code",
   "execution_count": 23,
   "id": "b1af9be3",
   "metadata": {
    "scrolled": true
   },
   "outputs": [
    {
     "data": {
      "text/plain": [
       "\"> Anyone knows how much it costs to host a web portal ?\\n>\\nWell, it depends on how many visitors you're expecting.\\nThis can be anywhere from less than 10 bucks a month to a couple of $100. \\nYou should checkout http://www.rackspace.com/ or perhaps Amazon EC2 \\nif youre running something big..\\n\\nTo unsubscribe yourself from this mailing list, send an email to:\\ngroupname-unsubscribe@egroups.com\\n\\n\""
      ]
     },
     "execution_count": 23,
     "metadata": {},
     "output_type": "execute_result"
    }
   ],
   "source": [
    "email"
   ]
  },
  {
   "cell_type": "code",
   "execution_count": 34,
   "id": "fe4097b5",
   "metadata": {},
   "outputs": [
    {
     "name": "stdout",
     "output_type": "stream",
     "text": [
      "[0. 0. 0. ... 0. 0. 0.]\n",
      "length of vector = 1899\n",
      "num of non-zero = 45\n"
     ]
    }
   ],
   "source": [
    "# 对照词汇表进行特征提取\n",
    "def FeatureVector(email):\n",
    "    vocab_path = './spam/vocab.txt'\n",
    "    vocab = build_word_list(vocab_path)\n",
    "    indexes = words_to_indexes(email, vocab)\n",
    "    vector=np.zeros((1,len(vocab)))\n",
    "    vector=vector.flatten()\n",
    "    for number in indexes:\n",
    "        vector[number-1]=1\n",
    "    return vector\n",
    "\n",
    "vector = FeatureVector(email)\n",
    "print(vector)\n",
    "print('length of vector = {}\\nnum of non-zero = {}'.format(len(vector), int(vector.sum())))\n"
   ]
  },
  {
   "cell_type": "code",
   "execution_count": 35,
   "id": "36ee9d1c",
   "metadata": {},
   "outputs": [],
   "source": [
    "# 读取训练集与测试集\n",
    "\n",
    "mat1 = loadmat('./spam/spamTrain.mat')\n",
    "X, y = mat1['X'], mat1['y']\n",
    "\n",
    "mat2 = loadmat('./spam/spamTest.mat')\n",
    "Xtest, ytest = mat2['Xtest'], mat2['ytest']"
   ]
  },
  {
   "cell_type": "code",
   "execution_count": 36,
   "id": "d51bebfc",
   "metadata": {},
   "outputs": [
    {
     "name": "stderr",
     "output_type": "stream",
     "text": [
      "D:\\software\\anaconda3\\lib\\site-packages\\sklearn\\utils\\validation.py:993: DataConversionWarning: A column-vector y was passed when a 1d array was expected. Please change the shape of y to (n_samples, ), for example using ravel().\n",
      "  y = column_or_1d(y, warn=True)\n"
     ]
    },
    {
     "data": {
      "text/plain": [
       "SVC(C=0.1, kernel='linear')"
      ]
     },
     "execution_count": 36,
     "metadata": {},
     "output_type": "execute_result"
    }
   ],
   "source": [
    "clf = svm.SVC(C=0.1, kernel='linear')\n",
    "clf.fit(X, y)"
   ]
  },
  {
   "cell_type": "code",
   "execution_count": 37,
   "id": "bd3d0daa",
   "metadata": {},
   "outputs": [
    {
     "name": "stdout",
     "output_type": "stream",
     "text": [
      "0.99825 0.989\n"
     ]
    }
   ],
   "source": [
    "# 预测\n",
    "predTrain = clf.score(X, y)\n",
    "predTest = clf.score(Xtest, ytest)\n",
    "print(predTrain, predTest)\n"
   ]
  },
  {
   "cell_type": "code",
   "execution_count": null,
   "id": "db6d0520",
   "metadata": {},
   "outputs": [],
   "source": []
  }
 ],
 "metadata": {
  "hide_input": false,
  "kernelspec": {
   "display_name": "Python 3 (ipykernel)",
   "language": "python",
   "name": "python3"
  },
  "language_info": {
   "codemirror_mode": {
    "name": "ipython",
    "version": 3
   },
   "file_extension": ".py",
   "mimetype": "text/x-python",
   "name": "python",
   "nbconvert_exporter": "python",
   "pygments_lexer": "ipython3",
   "version": "3.9.13"
  },
  "toc": {
   "base_numbering": 1,
   "nav_menu": {},
   "number_sections": true,
   "sideBar": true,
   "skip_h1_title": false,
   "title_cell": "Table of Contents",
   "title_sidebar": "Contents",
   "toc_cell": false,
   "toc_position": {},
   "toc_section_display": true,
   "toc_window_display": false
  },
  "varInspector": {
   "cols": {
    "lenName": 16,
    "lenType": 16,
    "lenVar": 40
   },
   "kernels_config": {
    "python": {
     "delete_cmd_postfix": "",
     "delete_cmd_prefix": "del ",
     "library": "var_list.py",
     "varRefreshCmd": "print(var_dic_list())"
    },
    "r": {
     "delete_cmd_postfix": ") ",
     "delete_cmd_prefix": "rm(",
     "library": "var_list.r",
     "varRefreshCmd": "cat(var_dic_list()) "
    }
   },
   "types_to_exclude": [
    "module",
    "function",
    "builtin_function_or_method",
    "instance",
    "_Feature"
   ],
   "window_display": false
  }
 },
 "nbformat": 4,
 "nbformat_minor": 5
}
